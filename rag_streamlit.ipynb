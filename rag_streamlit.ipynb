{
 "cells": [
  {
   "cell_type": "code",
   "execution_count": 1,
   "id": "b708e5e6-3506-4c0e-9fc8-eb544f99a08a",
   "metadata": {},
   "outputs": [
    {
     "name": "stdout",
     "output_type": "stream",
     "text": [
      "Overwriting rag.py\n"
     ]
    }
   ],
   "source": [
    "%%writefile rag.py\n",
    "import streamlit as st\n",
    "from rag_backend import build_rag_system, ask_question\n",
    "import tempfile\n",
    "\n",
    "st.set_page_config(page_title=\"📚 RAG PDF Q&A\", layout=\"wide\")\n",
    "st.title(\"📚 RAG PDF Question Answering System\")\n",
    "\n",
    "with st.sidebar:\n",
    "    st.header(\"⚙️ Settings\")\n",
    "    embed_choice = st.selectbox(\"Embedding model\", [\n",
    "        \"sentence-transformers/all-MiniLM-L6-v2\",\n",
    "        \"sentence-transformers/all-mpnet-base-v2\",\n",
    "        \"sentence-transformers/paraphrase-multilingual-mpnet-base-v2\"\n",
    "    ])\n",
    "    gen_choice = st.selectbox(\"Generation model\", [\n",
    "        \"google/flan-t5-base\",\n",
    "        \"google/flan-t5-large\"\n",
    "    ])\n",
    "    chunk_size = st.slider(\"Chunk size (characters)\", 200, 1500, 800, 100)\n",
    "    overlap = st.slider(\"Overlap size (characters)\", 50, 500, 200, 50)\n",
    "    top_k = st.slider(\"Top-k retrieved chunks\", 1, 8, 3)\n",
    "\n",
    "uploaded = st.file_uploader(\"📂 Upload your PDF file\", type=[\"pdf\"])\n",
    "\n",
    "if uploaded:\n",
    "    st.success(\"✅ PDF uploaded successfully!\")\n",
    "    with tempfile.NamedTemporaryFile(delete=False, suffix=\".pdf\") as tmpf:\n",
    "        tmpf.write(uploaded.getbuffer())\n",
    "        pdf_path = tmpf.name\n",
    "\n",
    "    with st.spinner(\"🔄 Building RAG system... This may take a minute...\"):\n",
    "        embed_model, gen_model, fa_store, chunks = build_rag_system(\n",
    "            embed_choice, gen_choice, pdf_path, chunk_size, overlap\n",
    "        )\n",
    "    st.success(f\"✅ Processed {len(chunks)} chunks!\")\n",
    "\n",
    "    question = st.text_input(\"❓ Ask a question based on the PDF content:\")\n",
    "    if question:\n",
    "        with st.spinner(\"🧠 Thinking... generating answer...\"):\n",
    "            answer, retrieved_texts = ask_question(question, embed_model, gen_model, fa_store, top_k)\n",
    "        st.subheader(\"💬 Answer:\")\n",
    "        st.write(answer)\n",
    "\n",
    "        st.subheader(\"📄 Retrieved context:\")\n",
    "        for i, txt in enumerate(retrieved_texts, 1):\n",
    "            st.markdown(f\"**Chunk {i}:** {txt[:800]}...\")\n",
    "else:\n",
    "    st.info(\"📥 Please upload a PDF file to start.\")\n"
   ]
  },
  {
   "cell_type": "code",
   "execution_count": null,
   "id": "ccb7228d-c111-423a-afc7-dbe933f778ec",
   "metadata": {},
   "outputs": [],
   "source": [
    "! streamlit run rag.py\n"
   ]
  },
  {
   "cell_type": "code",
   "execution_count": null,
   "id": "d2d3d752-ee26-489a-b022-a74c5821ea05",
   "metadata": {},
   "outputs": [],
   "source": []
  }
 ],
 "metadata": {
  "kernelspec": {
   "display_name": "Python 3 (ipykernel)",
   "language": "python",
   "name": "python3"
  },
  "language_info": {
   "codemirror_mode": {
    "name": "ipython",
    "version": 3
   },
   "file_extension": ".py",
   "mimetype": "text/x-python",
   "name": "python",
   "nbconvert_exporter": "python",
   "pygments_lexer": "ipython3",
   "version": "3.11.13"
  }
 },
 "nbformat": 4,
 "nbformat_minor": 5
}
